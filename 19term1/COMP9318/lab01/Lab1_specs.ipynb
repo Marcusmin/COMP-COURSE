{
 "cells": [
  {
   "cell_type": "markdown",
   "metadata": {},
   "source": [
    "# COMP9318 Lab1"
   ]
  },
  {
   "cell_type": "markdown",
   "metadata": {},
   "source": [
    "## Instructions\n",
    "1. This note book contains instructions for COMP9318-Lab1.\n",
    "\n",
    "* You are required to complete your implementation in a seperate file `submission.py` provided along with this notebook.\n",
    "\n",
    "* You are only allowed to use **Python 3.6** for implementation.\n",
    "\n",
    "* You are not allowed to print out unnecessary stuff. We will not consider any output printed out on the screen. All results should be returned in appropriate data structures return by corresponding functions.\n",
    "\n",
    "* You may submit your code via the submission system : 'https://kg.cse.unsw.edu.au/submit/'. We have sent out the invitation emails to join the submission system at your UNSW Email IDs.\n",
    "\n",
    "* For each question, we have provided you with detailed instructions along with question headings. In case of any problem, you can post your query @ Piazza.\n",
    "\n",
    "* If you choose to skip a question, leave the corresponding function body as it is (i.e., keep the `pass` line), otherwise it may affect your mark for other questions.\n",
    "\n",
    "* You are allowed to add other functions and/or import additional modules (you may have to in this lab), but you are not allowed to define global variables. **Only functions are allowed** in `submission.py`. \n",
    "\n",
    "* You should not import unnecessary modules/libraries, failing to import such modules at test time will lead to errors.\n",
    "\n",
    "* We will provide immediate feedback on your submission. You can access your scores using the online submission portal on the same day. However, for **Final Evaluation** we will be using a different dataset, so your final scores may vary.  \n",
    "\n",
    "* You are allowed to submit as many times as you want before the deadline, but **ONLY the latest version will be kept and marked**.\n",
    "\n",
    "* Submission deadline for this assignment is **23:59:59 on 10th March, 2019**. We will **not accept any late submissions.**"
   ]
  },
  {
   "cell_type": "markdown",
   "metadata": {},
   "source": [
    "# Question 0: An example (0 point)\n",
    "\n",
    "In this section, we illustrate the steps needed to complete this notebook and prepare the file `submission.py`. As an example, you are required to implement a function that takes two arguments `a` and `b`, and outputs their sum.\n",
    "\n",
    "\n",
    "You will be provided with the definition of the function as given below:"
   ]
  },
  {
   "cell_type": "code",
   "execution_count": 1,
   "metadata": {
    "collapsed": true
   },
   "outputs": [],
   "source": [
    "def add(a, b): # do not change the heading of the function\n",
    "    pass # **replace** this line with your code"
   ]
  },
  {
   "cell_type": "markdown",
   "metadata": {},
   "source": [
    "**Step 1**: You need to write your implementation in the function body like below **(you should remove the `pass` line from the function body)**:"
   ]
  },
  {
   "cell_type": "code",
   "execution_count": 2,
   "metadata": {
    "collapsed": true
   },
   "outputs": [],
   "source": [
    "def add(a, b): # do not change the heading of the function\n",
    "    return a + b"
   ]
  },
  {
   "cell_type": "markdown",
   "metadata": {},
   "source": [
    "**Step 2**: you need to paste your code to **`submission.py`**, which originally contains only function definitions. As an example, we have done the Question 0 for you."
   ]
  },
  {
   "cell_type": "markdown",
   "metadata": {},
   "source": [
    "# Question 1: Integer square root of an integer (25 points)\n",
    "\n",
    "You need to write a function, `nsqrt()`, that takes as input an integer `x`, and return the largest integer that does not exceed $\\sqrt{x}$. You need to abide by the following constraints:\n",
    "1. The time complexity of your algorithm should be $O(\\log x)$. \n",
    "2. You cannot use `sqrt()` function. \n",
    "\n",
    "For example, `nsqrt(11) = 3`, and `nsqrt(1369) = 37`. \n"
   ]
  },
  {
   "cell_type": "code",
   "execution_count": 3,
   "metadata": {
    "collapsed": true
   },
   "outputs": [],
   "source": [
    "def nsqrt(x): # do not change the heading of the function\n",
    "    pass # **replace** this line with your code"
   ]
  },
  {
   "cell_type": "markdown",
   "metadata": {},
   "source": [
    "you can test your implementation using the following code."
   ]
  },
  {
   "cell_type": "code",
   "execution_count": 5,
   "metadata": {},
   "outputs": [
    {
     "name": "stdout",
     "output_type": "stream",
     "text": [
      "3 37\n"
     ]
    }
   ],
   "source": [
    "import submission as submission\n",
    "print(submission.nsqrt(11), submission.nsqrt(1369))"
   ]
  },
  {
   "cell_type": "markdown",
   "metadata": {},
   "source": [
    "# Question 2: Finding a root (25 points)"
   ]
  },
  {
   "cell_type": "markdown",
   "metadata": {},
   "source": [
    "Use Newton's method to find a root of an equation numerically. Newton's method starts from $x_0$ and iteratively computes $$x_{i+1} = x_i - \\frac{f(x_i)}{f'(x_i)}.$$\n",
    "\n",
    "We plot the equation below (for x > 0)\n"
   ]
  },
  {
   "cell_type": "code",
   "execution_count": 1,
   "metadata": {},
   "outputs": [
    {
     "data": {
      "image/png": "[encoded data removed]",
      "text/plain": [
       "<matplotlib.figure.Figure at 0x7f49d4148630>"
      ]
     },
     "metadata": {},
     "output_type": "display_data"
    }
   ],
   "source": [
    "import math\n",
    "import matplotlib\n",
    "import numpy as np\n",
    "import matplotlib.pyplot as plt\n",
    "%matplotlib inline  \n",
    "\n",
    "\n",
    "def f(x):\n",
    "    return x * math.log(x) - 16.0\n",
    "\n",
    "xvals = np.arange(0.01, 10, 0.01)        \n",
    "yvals = np.array([f(x) for x in xvals])\n",
    "plt.plot(xvals, yvals) \n",
    "plt.plot(xvals, 0*xvals)\n",
    "plt.show()"
   ]
  },
  {
   "cell_type": "markdown",
   "metadata": {},
   "source": [
    "Let us consider find a $x$ such that $f(x) = x \\ln(x) - 16 = 0$. \n",
    "\n",
    "Here, $f'(x) = (x \\cdot \\frac{1}{x} + 1 \\cdot \\ln(x)) + 0 = 1 + \\ln(x)$. \n",
    "\n",
    "we denoted it as `fprime(x)`:"
   ]
  },
  {
   "cell_type": "code",
   "execution_count": 7,
   "metadata": {
    "collapsed": true
   },
   "outputs": [],
   "source": [
    "def fprime(x):\n",
    "    return 1.0 + math.log(x)"
   ]
  },
  {
   "cell_type": "markdown",
   "metadata": {},
   "source": [
    "You need to implement Newton's method below. <br>\n",
    "* NOTE: you must use the default values of the mentioned parameters, **do not change them**"
   ]
  },
  {
   "cell_type": "code",
   "execution_count": 1,
   "metadata": {},
   "outputs": [],
   "source": [
    "## We will be using following parameters:\n",
    "# x_0: initial guess\n",
    "# EPSILON: stop when abs(x - x_new) < EPSILON\n",
    "# MAX_ITER: maximum number of iterations\n",
    "\n",
    "\n",
    "def find_root(f, fprime, x_0=1.0, EPSILON = 1E-7, MAX_ITER = 1000): # do not change the heading of the function\n",
    "    pass # **replace** this line with your code"
   ]
  },
  {
   "cell_type": "markdown",
   "metadata": {},
   "source": [
    "You can test your implementation using the following code.\n",
    "\n",
    "* Note that we will evaluate your submission with a different function, i.e., $f(x)$. If you want to change it during your implementation, you should also change $f'(x)$ accordingly."
   ]
  },
  {
   "cell_type": "code",
   "execution_count": 9,
   "metadata": {},
   "outputs": [
    {
     "name": "stdout",
     "output_type": "stream",
     "text": [
      "7.792741452820329\n",
      "0.0\n"
     ]
    }
   ],
   "source": [
    "import submission as submission\n",
    "\n",
    "x = submission.find_root(f, fprime)\n",
    "print(x)\n",
    "print(f(x))"
   ]
  },
  {
   "cell_type": "markdown",
   "metadata": {},
   "source": [
    "# Question 3: Trees (25 + 25 points)\n",
    "\n",
    "In this question, you need to perform following tasks: \n",
    "1. Build a tree from a string, which represents the pre-order traversal of the tree. \n",
    "2. Compute the max depth of the tree. \n",
    "\n",
    "We provide you with the following `Tree` class, and a helper function which parses the string and returns an array of tokens."
   ]
  },
  {
   "cell_type": "code",
   "execution_count": 1,
   "metadata": {},
   "outputs": [],
   "source": [
    "# Note: You need to pay attention to how to determine whether a node is a leaf node in this implementation. \n",
    "class Tree(object):\n",
    "    def __init__(self, name='ROOT', children=None):\n",
    "        self.name = name\n",
    "        self.children = []\n",
    "        if children is not None:\n",
    "            for child in children:\n",
    "                self.add_child(child)\n",
    "    def __repr__(self):\n",
    "        return self.name\n",
    "    def add_child(self, node):\n",
    "        assert isinstance(node, Tree)\n",
    "        self.children.append(node)"
   ]
  },
  {
   "cell_type": "markdown",
   "metadata": {},
   "source": [
    "The following code demonstrates basic use of the class. "
   ]
  },
  {
   "cell_type": "code",
   "execution_count": 2,
   "metadata": {},
   "outputs": [],
   "source": [
    "t = Tree('*', [Tree('1'),\n",
    "               Tree('2'),\n",
    "               Tree('+', [Tree('3'),\n",
    "                          Tree('4')])])\n"
   ]
  },
  {
   "cell_type": "code",
   "execution_count": 12,
   "metadata": {
    "collapsed": true
   },
   "outputs": [],
   "source": [
    "def print_tree(root, indent=0):\n",
    "    print(' ' * indent, root)\n",
    "    if len(root.children) > 0:\n",
    "        for child in root.children:\n",
    "            print_tree(child, indent+4)"
   ]
  },
  {
   "cell_type": "code",
   "execution_count": 13,
   "metadata": {},
   "outputs": [
    {
     "name": "stdout",
     "output_type": "stream",
     "text": [
      " *\n",
      "     1\n",
      "     2\n",
      "     +\n",
      "         3\n",
      "         4\n"
     ]
    }
   ],
   "source": [
    "print_tree(t)"
   ]
  },
  {
   "cell_type": "markdown",
   "metadata": {},
   "source": [
    "Here is the helper function `str_to_tokens`, and its sample usage. "
   ]
  },
  {
   "cell_type": "code",
   "execution_count": 14,
   "metadata": {
    "collapsed": true
   },
   "outputs": [],
   "source": [
    "import re\n",
    "\n",
    "def myfind(s, char):\n",
    "    pos = s.find(char)\n",
    "    if pos == -1: # not found\n",
    "        return len(s) + 1\n",
    "    else: \n",
    "        return pos\n",
    "\n",
    "def next_tok(s): # returns tok, rest_s\n",
    "    if s == '': \n",
    "        return (None, None)\n",
    "    # normal cases\n",
    "    poss = [myfind(s, ' '), myfind(s, '['), myfind(s, ']')]\n",
    "    min_pos = min(poss)\n",
    "    if poss[0] == min_pos: # separator is a space\n",
    "        tok, rest_s = s[ : min_pos], s[min_pos+1 : ] # skip the space\n",
    "        if tok == '': # more than 1 space\n",
    "            return next_tok(rest_s)\n",
    "        else:\n",
    "            return (tok, rest_s)\n",
    "    else: # separator is a [ or ]\n",
    "        tok, rest_s = s[ : min_pos], s[min_pos : ]\n",
    "        if tok == '': # the next char is [ or ]\n",
    "            return (rest_s[:1], rest_s[1:])\n",
    "        else:\n",
    "            return (tok, rest_s)\n",
    "        \n",
    "def str_to_tokens(str_tree):\n",
    "    # remove \\n first\n",
    "    str_tree = str_tree.replace('\\n','')\n",
    "    out = []\n",
    "    \n",
    "    tok, s = next_tok(str_tree)\n",
    "    while tok is not None:\n",
    "        out.append(tok)\n",
    "        tok, s = next_tok(s)\n",
    "    return out"
   ]
  },
  {
   "cell_type": "code",
   "execution_count": 15,
   "metadata": {},
   "outputs": [
    {
     "name": "stdout",
     "output_type": "stream",
     "text": [
      "['1', '[', '2', '[', '3', '4', '5', ']', '6', '[', '7', '8', '[', '9', ']', '10', '[', '11', '12', ']', ']', '13', ']']\n"
     ]
    }
   ],
   "source": [
    "# format: node, list-of-children\n",
    "str_tree = '''\n",
    "1 [2 [3 4       5          ] \n",
    "   6 [7 8 [9]   10 [11 12] ] \n",
    "   13\n",
    "  ]\n",
    "'''\n",
    "toks = str_to_tokens(str_tree)\n",
    "print(toks)"
   ]
  },
  {
   "cell_type": "markdown",
   "metadata": {},
   "source": [
    "## Question 3-1 (25 points)\n",
    "Now you need to implement the function `make_tree(tokens)`, which receives tokens formatted like `toks` above and returns a `Tree` object. "
   ]
  },
  {
   "cell_type": "code",
   "execution_count": 16,
   "metadata": {
    "collapsed": true
   },
   "outputs": [],
   "source": [
    "def make_tree(tokens): # do not change the heading of the function\n",
    "    pass # **replace** this line with your code    "
   ]
  },
  {
   "cell_type": "markdown",
   "metadata": {},
   "source": [
    "You can test your implementation using the following code."
   ]
  },
  {
   "cell_type": "code",
   "execution_count": 17,
   "metadata": {},
   "outputs": [
    {
     "name": "stdout",
     "output_type": "stream",
     "text": [
      " 1\n",
      "     2\n",
      "         3\n",
      "         4\n",
      "         5\n",
      "     6\n",
      "         7\n",
      "         8\n",
      "             9\n",
      "         10\n",
      "             11\n",
      "             12\n",
      "     13\n"
     ]
    }
   ],
   "source": [
    "import submission as submission\n",
    "tt = submission.make_tree(toks)\n",
    "print_tree(tt)"
   ]
  },
  {
   "cell_type": "markdown",
   "metadata": {},
   "source": [
    "## Question 3-2 (25 points)\n",
    "Now you need to implement the `max_depth(root)` function, which receives the root of the tree and returns the max depth of the tree. \n",
    "\n",
    "For the given sample tree string, the max depth is 4. "
   ]
  },
  {
   "cell_type": "code",
   "execution_count": 20,
   "metadata": {
    "collapsed": true
   },
   "outputs": [],
   "source": [
    "def max_depth(root): # do not change the heading of the function\n",
    "    pass # **replace** this line with your code"
   ]
  },
  {
   "cell_type": "markdown",
   "metadata": {},
   "source": [
    "You can test your implementation using the following code."
   ]
  },
  {
   "cell_type": "code",
   "execution_count": 21,
   "metadata": {},
   "outputs": [
    {
     "name": "stdout",
     "output_type": "stream",
     "text": [
      "4\n"
     ]
    }
   ],
   "source": [
    "import submission as submission\n",
    "depth = submission.max_depth(tt)\n",
    "print(depth)"
   ]
  },
  {
   "cell_type": "code",
   "execution_count": null,
   "metadata": {
    "collapsed": true
   },
   "outputs": [],
   "source": []
  }
 ],
 "metadata": {
  "kernelspec": {
   "display_name": "Python 3",
   "language": "python",
   "name": "python3"
  },
  "language_info": {
   "codemirror_mode": {
    "name": "ipython",
    "version": 3
   },
   "file_extension": ".py",
   "mimetype": "text/x-python",
   "name": "python",
   "nbconvert_exporter": "python",
   "pygments_lexer": "ipython3",
   "version": "3.7.1"
  }
 },
 "nbformat": 4,
 "nbformat_minor": 1
}
